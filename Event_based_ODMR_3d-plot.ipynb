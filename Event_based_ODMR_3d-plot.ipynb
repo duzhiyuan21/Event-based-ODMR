{
 "cells": [
  {
   "cell_type": "code",
   "execution_count": 2,
   "metadata": {},
   "outputs": [],
   "source": [
    "import multiprocessing\n",
    "from PIL import Image\n",
    "import os.path\n",
    "import numpy as np\n",
    "import pandas as pd\n",
    "import plotly.express as px\n",
    "import torch\n",
    "# from numpy import dtype\n",
    "# import time\n",
    "from matplotlib import pyplot as plt\n",
    "from metavision_core.event_io.raw_reader import initiate_device\n",
    "from metavision_core.event_io.raw_reader import RawReader\n",
    "%config InlineBackend.figure_formats = ['svg']"
   ]
  },
  {
   "cell_type": "markdown",
   "metadata": {},
   "source": [
    "# Read the Raw event data and Trig time\n",
    "\n",
    "The trig time indicating when the AWG starts sweeping\n"
   ]
  },
  {
   "cell_type": "code",
   "execution_count": 4,
   "metadata": {},
   "outputs": [],
   "source": [
    "raw_data=pd.read_csv('E:\\\\phd\\\\program\\\\EventCam_220330\\\\20mW_7ms_forward_thr75.0_fo1725_AWG_2835-2905-test2.csv')\n",
    "TrigEvent=pd.read_csv('E:\\\\phd\\\\program\\\\EventCam_220330\\\\20mW_7ms_forward_thr75.0_fo1725_AWG_2835-2905_trig-test2.csv')"
   ]
  },
  {
   "cell_type": "markdown",
   "metadata": {},
   "source": [
    "# Cut a section of the raw event (saved as raw data2) to do further process"
   ]
  },
  {
   "cell_type": "code",
   "execution_count": 5,
   "metadata": {},
   "outputs": [
    {
     "name": "stderr",
     "output_type": "stream",
     "text": [
      "C:\\Users\\eee\\AppData\\Local\\Temp\\ipykernel_17592\\249686785.py:16: SettingWithCopyWarning: \n",
      "A value is trying to be set on a copy of a slice from a DataFrame.\n",
      "Try using .loc[row_indexer,col_indexer] = value instead\n",
      "\n",
      "See the caveats in the documentation: https://pandas.pydata.org/pandas-docs/stable/user_guide/indexing.html#returning-a-view-versus-a-copy\n",
      "  raw_data2['t']=raw_data2['t']-trig_start  # shift the time to 0\n",
      "C:\\Users\\eee\\AppData\\Local\\Temp\\ipykernel_17592\\249686785.py:18: SettingWithCopyWarning: \n",
      "A value is trying to be set on a copy of a slice from a DataFrame.\n",
      "Try using .loc[row_indexer,col_indexer] = value instead\n",
      "\n",
      "See the caveats in the documentation: https://pandas.pydata.org/pandas-docs/stable/user_guide/indexing.html#returning-a-view-versus-a-copy\n",
      "  raw_data2['p'] = raw_values.astype(np.int32)\n"
     ]
    }
   ],
   "source": [
    "XSIZE=640 # frame size\n",
    "YSIZE=480\n",
    "num_loop=1 # numer of looped Microwave (MW) frequency sweeping \n",
    "num_repeat=1 # repeating the above mentioned loop sweeping\n",
    "period=7000 # sweeping period; unit: us \n",
    "cycle_start=20 # discard the first 20 sweep loops\n",
    "total_cycle=num_loop*num_repeat*2 # in TrigEvents, every cycle contains 2 trig evnts. Either can be used\n",
    "# period_selection=np.arange(cycle_start,total_cycle+cycle_start,2).reshape((-1,1)) #\n",
    "trig_start = TrigEvent['t'][cycle_start]\n",
    "trig_end= trig_start+period*num_loop*num_repeat\n",
    "filter=(raw_data['t']>=trig_start)&(raw_data['t']<=trig_end)\n",
    "raw_data2=raw_data[filter]\n",
    "# shift_temp=raw_data2['t']-raw_data2['t'][0]\n",
    "# shift_temp=raw_data2[0]['t']\n",
    "# raw_data2['t']=raw_data2['t']-raw_data2['t'][0]\n",
    "raw_data2['t']=raw_data2['t']-trig_start  # shift the time to 0\n",
    "raw_values = (raw_data2['p'] - 0.5) * 2  # Convert (0, 1) to (-1, 1)\n",
    "raw_data2['p'] = raw_values.astype(np.int32)"
   ]
  },
  {
   "cell_type": "code",
   "execution_count": 6,
   "metadata": {},
   "outputs": [
    {
     "name": "stdout",
     "output_type": "stream",
     "text": [
      "<class 'pandas.core.frame.DataFrame'>\n",
      "<class 'pandas.core.frame.DataFrame'>\n",
      "(15359, 4)\n"
     ]
    },
    {
     "data": {
      "text/plain": [
       "0"
      ]
     },
     "execution_count": 6,
     "metadata": {},
     "output_type": "execute_result"
    }
   ],
   "source": [
    "print(type(raw_data))\n",
    "print(type(raw_data2))\n",
    "print(raw_data2.shape)\n",
    "\n",
    "\n",
    "raw_data2['t'].to_numpy()[0]"
   ]
  },
  {
   "cell_type": "markdown",
   "metadata": {},
   "source": [
    "# Frequency sweeping range "
   ]
  },
  {
   "cell_type": "markdown",
   "metadata": {},
   "source": [
    "# Do filtering by 3D convolution on raw events data\n",
    "    the 3D convolution is realized by torch.sparse.sum with \n",
    "    x kernel size = 2*x_length, x_stride=1 \n",
    "    y kernel size = 2*y_length, y_stride=1\n",
    "    t kernel size= t_length, t_stride = t_length\n",
    "    "
   ]
  },
  {
   "cell_type": "code",
   "execution_count": 7,
   "metadata": {},
   "outputs": [],
   "source": [
    "\n",
    "# key parameters to do the 3D convolution:\n",
    "x_length=5 # x kernel size\n",
    "y_length=5 # y kernel size\n",
    "t_length=20 # t kernel size\n",
    "x_center_set=np.arange(x_length,XSIZE-x_length+1,1) # central pixel address to be convolutioned; \n",
    "y_center_set=np.arange(y_length,YSIZE-y_length+1,1)\n",
    "\n",
    "\n",
    "event_total=[] # array storing all convolution results\n",
    "num_l=0\n",
    "\n",
    "# sweep across the frame pixels:\n",
    "for j, y_center in enumerate(y_center_set):\n",
    "    for i, x_center in enumerate(x_center_set):\n",
    "        \n",
    "        events_temp=np.zeros((period//t_length, 4)) # array to store convolution result mapped to (y_center, x_center); 1st column- 'x', 2nd column - 'y', 3rd column- 't', 4th column - 'p'\n",
    "        events_temp[:,0]=x_center\n",
    "        events_temp[:,1]=y_center\n",
    "        events_temp[:,2]=np.arange(0,period,t_length)\n",
    "        filter=(raw_data2['x']>=(x_center-x_length))&(raw_data2['x']<(x_center+x_length))&(raw_data2['y']>=(y_center-y_length))&(raw_data2['y']<(y_center+y_length)) # choose local areas of 2*y_length by 2* x_length centered at (y_center, x_center) to do convolution\n",
    "        if max(filter)==True:  # some areas may contains no events\n",
    "            # raw_data_temp=raw_data2[filter]\n",
    "            raw_values = raw_data2[filter]['p'].to_numpy()\n",
    "            raw_indexes = np.array([\n",
    "                        raw_data2[filter]['t'].to_numpy(), \n",
    "                        raw_data2[filter]['x'].to_numpy()-(x_center-x_length), # shift to 0\n",
    "                        raw_data2[filter]['y'].to_numpy()-(y_center-y_length), \n",
    "                        ])\n",
    "            raw_data_sparse= torch.sparse_coo_tensor(raw_indexes, raw_values,size=(period*num_loop,2*x_length,2*y_length))\n",
    "            raw_data_xy_bining=torch.sparse.sum(torch.sparse.sum(raw_data_sparse, 2),dim=1)\n",
    "            raw_data_t_bining=torch.sum(raw_data_xy_bining.to_dense().reshape((num_loop,period)),dim=0) # stack events of num_loop sweepings \n",
    "            raw_data_t_bining=torch.sum(raw_data_t_bining.reshape((period//t_length,t_length)),dim=1) # sum events within every t_length range\n",
    "            events_temp[:,3]=raw_data_t_bining\n",
    "            events_temp=events_temp[abs(events_temp[:,3])>1] # keep results of which p>1; can be changed to modify the display effect\n",
    "            event_total.extend(events_temp)\n"
   ]
  },
  {
   "cell_type": "markdown",
   "metadata": {},
   "source": [
    "# Convert results to numpy array and save data\n"
   ]
  },
  {
   "cell_type": "code",
   "execution_count": 8,
   "metadata": {},
   "outputs": [
    {
     "data": {
      "text/html": [
       "<div>\n",
       "<style scoped>\n",
       "    .dataframe tbody tr th:only-of-type {\n",
       "        vertical-align: middle;\n",
       "    }\n",
       "\n",
       "    .dataframe tbody tr th {\n",
       "        vertical-align: top;\n",
       "    }\n",
       "\n",
       "    .dataframe thead th {\n",
       "        text-align: right;\n",
       "    }\n",
       "</style>\n",
       "<table border=\"1\" class=\"dataframe\">\n",
       "  <thead>\n",
       "    <tr style=\"text-align: right;\">\n",
       "      <th></th>\n",
       "      <th>x</th>\n",
       "      <th>y</th>\n",
       "      <th>t</th>\n",
       "      <th>p</th>\n",
       "    </tr>\n",
       "  </thead>\n",
       "  <tbody>\n",
       "    <tr>\n",
       "      <th>80</th>\n",
       "      <td>565.0</td>\n",
       "      <td>405.0</td>\n",
       "      <td>860.0</td>\n",
       "      <td>2.0</td>\n",
       "    </tr>\n",
       "    <tr>\n",
       "      <th>81</th>\n",
       "      <td>145.0</td>\n",
       "      <td>415.0</td>\n",
       "      <td>100.0</td>\n",
       "      <td>2.0</td>\n",
       "    </tr>\n",
       "    <tr>\n",
       "      <th>82</th>\n",
       "      <td>355.0</td>\n",
       "      <td>425.0</td>\n",
       "      <td>820.0</td>\n",
       "      <td>2.0</td>\n",
       "    </tr>\n",
       "    <tr>\n",
       "      <th>83</th>\n",
       "      <td>215.0</td>\n",
       "      <td>455.0</td>\n",
       "      <td>600.0</td>\n",
       "      <td>2.0</td>\n",
       "    </tr>\n",
       "    <tr>\n",
       "      <th>84</th>\n",
       "      <td>355.0</td>\n",
       "      <td>465.0</td>\n",
       "      <td>480.0</td>\n",
       "      <td>2.0</td>\n",
       "    </tr>\n",
       "  </tbody>\n",
       "</table>\n",
       "</div>"
      ],
      "text/plain": [
       "        x      y      t    p\n",
       "80  565.0  405.0  860.0  2.0\n",
       "81  145.0  415.0  100.0  2.0\n",
       "82  355.0  425.0  820.0  2.0\n",
       "83  215.0  455.0  600.0  2.0\n",
       "84  355.0  465.0  480.0  2.0"
      ]
     },
     "execution_count": 8,
     "metadata": {},
     "output_type": "execute_result"
    }
   ],
   "source": [
    "event_total=np.array(event_total)\n",
    "df = pd.DataFrame(event_total,columns=['x','y','t','p'])\n",
    "df.to_csv('E:\\\\phd\\\\program\\\\EventCam_220330\\\\20mW_70ms_forward_thr75.0_fo1725_AWG_2835-2905-Convolution_test.csv',index=False)\n",
    "df.tail()"
   ]
  },
  {
   "cell_type": "markdown",
   "metadata": {},
   "source": [
    "# Plot result in 3D"
   ]
  },
  {
   "cell_type": "code",
   "execution_count": 9,
   "metadata": {},
   "outputs": [
    {
     "data": {
      "application/vnd.plotly.v1+json": {
       "config": {
        "plotlyServerURL": "https://plot.ly"
       },
       "data": [
        {
         "hovertemplate": "t=%{x}<br>x=%{y}<br>y=%{z}<br>p=%{marker.color}<extra></extra>",
         "legendgroup": "",
         "marker": {
          "color": [
           2,
           2,
           2,
           2,
           2,
           2,
           2,
           2,
           2,
           2,
           2,
           2,
           2,
           2,
           2,
           2,
           2,
           2,
           2,
           2,
           -2,
           2,
           2,
           2,
           2,
           -2,
           2,
           2,
           2,
           2,
           2,
           -2,
           -2,
           2,
           2,
           2,
           2,
           2,
           2,
           2,
           2,
           2,
           2,
           2,
           2,
           2,
           2,
           2,
           2,
           2,
           2,
           2,
           2,
           2,
           2,
           2,
           2,
           2,
           2,
           2,
           3,
           2,
           2,
           2,
           2,
           2,
           2,
           2,
           2,
           3,
           2,
           2,
           2,
           3,
           2,
           2,
           2,
           2,
           2,
           2,
           2,
           2,
           2,
           2,
           2
          ],
          "coloraxis": "coloraxis",
          "opacity": 0.3,
          "size": 0.5,
          "symbol": "circle"
         },
         "mode": "markers",
         "name": "",
         "scene": "scene",
         "showlegend": false,
         "type": "scatter3d",
         "x": [
          60,
          420,
          280,
          60,
          60,
          280,
          3480,
          60,
          580,
          140,
          340,
          5780,
          480,
          200,
          40,
          120,
          4940,
          120,
          400,
          540,
          3120,
          180,
          880,
          400,
          780,
          3800,
          340,
          40,
          880,
          840,
          920,
          3920,
          4060,
          5480,
          5740,
          780,
          120,
          40,
          2360,
          480,
          620,
          340,
          420,
          740,
          740,
          340,
          4740,
          340,
          200,
          900,
          860,
          0,
          580,
          760,
          380,
          520,
          900,
          520,
          580,
          700,
          900,
          640,
          960,
          160,
          380,
          860,
          940,
          1020,
          160,
          380,
          380,
          1040,
          980,
          580,
          660,
          20,
          160,
          320,
          20,
          240,
          860,
          100,
          820,
          600,
          480
         ],
         "y": [
          285,
          355,
          565,
          355,
          215,
          355,
          355,
          565,
          145,
          495,
          355,
          425,
          145,
          215,
          285,
          145,
          145,
          285,
          285,
          285,
          285,
          635,
          145,
          285,
          285,
          285,
          355,
          425,
          425,
          215,
          285,
          285,
          285,
          285,
          285,
          425,
          145,
          285,
          285,
          355,
          145,
          145,
          145,
          145,
          215,
          285,
          285,
          425,
          145,
          425,
          495,
          425,
          565,
          215,
          425,
          425,
          285,
          425,
          145,
          355,
          355,
          145,
          145,
          145,
          145,
          145,
          145,
          285,
          215,
          215,
          285,
          285,
          355,
          285,
          215,
          285,
          285,
          215,
          635,
          145,
          565,
          145,
          355,
          215,
          355
         ],
         "z": [
          35,
          45,
          45,
          55,
          65,
          65,
          75,
          115,
          125,
          125,
          135,
          135,
          145,
          145,
          145,
          155,
          165,
          165,
          165,
          165,
          165,
          165,
          175,
          175,
          175,
          175,
          175,
          175,
          175,
          185,
          185,
          185,
          185,
          185,
          185,
          185,
          195,
          195,
          195,
          195,
          215,
          225,
          225,
          225,
          225,
          225,
          225,
          225,
          245,
          265,
          265,
          275,
          275,
          285,
          285,
          285,
          295,
          295,
          305,
          305,
          305,
          315,
          315,
          325,
          325,
          325,
          325,
          325,
          345,
          345,
          345,
          345,
          345,
          355,
          365,
          375,
          375,
          385,
          385,
          405,
          405,
          415,
          425,
          455,
          465
         ]
        }
       ],
       "layout": {
        "coloraxis": {
         "colorbar": {
          "title": {
           "text": "p"
          }
         },
         "colorscale": [
          [
           0,
           "#0d0887"
          ],
          [
           0.1111111111111111,
           "#46039f"
          ],
          [
           0.2222222222222222,
           "#7201a8"
          ],
          [
           0.3333333333333333,
           "#9c179e"
          ],
          [
           0.4444444444444444,
           "#bd3786"
          ],
          [
           0.5555555555555556,
           "#d8576b"
          ],
          [
           0.6666666666666666,
           "#ed7953"
          ],
          [
           0.7777777777777778,
           "#fb9f3a"
          ],
          [
           0.8888888888888888,
           "#fdca26"
          ],
          [
           1,
           "#f0f921"
          ]
         ]
        },
        "height": 700,
        "legend": {
         "tracegroupgap": 0
        },
        "margin": {
         "t": 60
        },
        "scene": {
         "aspectmode": "manual",
         "aspectratio": {
          "x": 3,
          "y": 1,
          "z": 1
         },
         "domain": {
          "x": [
           0,
           1
          ],
          "y": [
           0,
           1
          ]
         },
         "xaxis": {
          "title": {
           "text": "t"
          }
         },
         "yaxis": {
          "title": {
           "text": "x"
          }
         },
         "zaxis": {
          "title": {
           "text": "y"
          }
         }
        },
        "template": {
         "data": {
          "bar": [
           {
            "error_x": {
             "color": "#2a3f5f"
            },
            "error_y": {
             "color": "#2a3f5f"
            },
            "marker": {
             "line": {
              "color": "#E5ECF6",
              "width": 0.5
             },
             "pattern": {
              "fillmode": "overlay",
              "size": 10,
              "solidity": 0.2
             }
            },
            "type": "bar"
           }
          ],
          "barpolar": [
           {
            "marker": {
             "line": {
              "color": "#E5ECF6",
              "width": 0.5
             },
             "pattern": {
              "fillmode": "overlay",
              "size": 10,
              "solidity": 0.2
             }
            },
            "type": "barpolar"
           }
          ],
          "carpet": [
           {
            "aaxis": {
             "endlinecolor": "#2a3f5f",
             "gridcolor": "white",
             "linecolor": "white",
             "minorgridcolor": "white",
             "startlinecolor": "#2a3f5f"
            },
            "baxis": {
             "endlinecolor": "#2a3f5f",
             "gridcolor": "white",
             "linecolor": "white",
             "minorgridcolor": "white",
             "startlinecolor": "#2a3f5f"
            },
            "type": "carpet"
           }
          ],
          "choropleth": [
           {
            "colorbar": {
             "outlinewidth": 0,
             "ticks": ""
            },
            "type": "choropleth"
           }
          ],
          "contour": [
           {
            "colorbar": {
             "outlinewidth": 0,
             "ticks": ""
            },
            "colorscale": [
             [
              0,
              "#0d0887"
             ],
             [
              0.1111111111111111,
              "#46039f"
             ],
             [
              0.2222222222222222,
              "#7201a8"
             ],
             [
              0.3333333333333333,
              "#9c179e"
             ],
             [
              0.4444444444444444,
              "#bd3786"
             ],
             [
              0.5555555555555556,
              "#d8576b"
             ],
             [
              0.6666666666666666,
              "#ed7953"
             ],
             [
              0.7777777777777778,
              "#fb9f3a"
             ],
             [
              0.8888888888888888,
              "#fdca26"
             ],
             [
              1,
              "#f0f921"
             ]
            ],
            "type": "contour"
           }
          ],
          "contourcarpet": [
           {
            "colorbar": {
             "outlinewidth": 0,
             "ticks": ""
            },
            "type": "contourcarpet"
           }
          ],
          "heatmap": [
           {
            "colorbar": {
             "outlinewidth": 0,
             "ticks": ""
            },
            "colorscale": [
             [
              0,
              "#0d0887"
             ],
             [
              0.1111111111111111,
              "#46039f"
             ],
             [
              0.2222222222222222,
              "#7201a8"
             ],
             [
              0.3333333333333333,
              "#9c179e"
             ],
             [
              0.4444444444444444,
              "#bd3786"
             ],
             [
              0.5555555555555556,
              "#d8576b"
             ],
             [
              0.6666666666666666,
              "#ed7953"
             ],
             [
              0.7777777777777778,
              "#fb9f3a"
             ],
             [
              0.8888888888888888,
              "#fdca26"
             ],
             [
              1,
              "#f0f921"
             ]
            ],
            "type": "heatmap"
           }
          ],
          "heatmapgl": [
           {
            "colorbar": {
             "outlinewidth": 0,
             "ticks": ""
            },
            "colorscale": [
             [
              0,
              "#0d0887"
             ],
             [
              0.1111111111111111,
              "#46039f"
             ],
             [
              0.2222222222222222,
              "#7201a8"
             ],
             [
              0.3333333333333333,
              "#9c179e"
             ],
             [
              0.4444444444444444,
              "#bd3786"
             ],
             [
              0.5555555555555556,
              "#d8576b"
             ],
             [
              0.6666666666666666,
              "#ed7953"
             ],
             [
              0.7777777777777778,
              "#fb9f3a"
             ],
             [
              0.8888888888888888,
              "#fdca26"
             ],
             [
              1,
              "#f0f921"
             ]
            ],
            "type": "heatmapgl"
           }
          ],
          "histogram": [
           {
            "marker": {
             "pattern": {
              "fillmode": "overlay",
              "size": 10,
              "solidity": 0.2
             }
            },
            "type": "histogram"
           }
          ],
          "histogram2d": [
           {
            "colorbar": {
             "outlinewidth": 0,
             "ticks": ""
            },
            "colorscale": [
             [
              0,
              "#0d0887"
             ],
             [
              0.1111111111111111,
              "#46039f"
             ],
             [
              0.2222222222222222,
              "#7201a8"
             ],
             [
              0.3333333333333333,
              "#9c179e"
             ],
             [
              0.4444444444444444,
              "#bd3786"
             ],
             [
              0.5555555555555556,
              "#d8576b"
             ],
             [
              0.6666666666666666,
              "#ed7953"
             ],
             [
              0.7777777777777778,
              "#fb9f3a"
             ],
             [
              0.8888888888888888,
              "#fdca26"
             ],
             [
              1,
              "#f0f921"
             ]
            ],
            "type": "histogram2d"
           }
          ],
          "histogram2dcontour": [
           {
            "colorbar": {
             "outlinewidth": 0,
             "ticks": ""
            },
            "colorscale": [
             [
              0,
              "#0d0887"
             ],
             [
              0.1111111111111111,
              "#46039f"
             ],
             [
              0.2222222222222222,
              "#7201a8"
             ],
             [
              0.3333333333333333,
              "#9c179e"
             ],
             [
              0.4444444444444444,
              "#bd3786"
             ],
             [
              0.5555555555555556,
              "#d8576b"
             ],
             [
              0.6666666666666666,
              "#ed7953"
             ],
             [
              0.7777777777777778,
              "#fb9f3a"
             ],
             [
              0.8888888888888888,
              "#fdca26"
             ],
             [
              1,
              "#f0f921"
             ]
            ],
            "type": "histogram2dcontour"
           }
          ],
          "mesh3d": [
           {
            "colorbar": {
             "outlinewidth": 0,
             "ticks": ""
            },
            "type": "mesh3d"
           }
          ],
          "parcoords": [
           {
            "line": {
             "colorbar": {
              "outlinewidth": 0,
              "ticks": ""
             }
            },
            "type": "parcoords"
           }
          ],
          "pie": [
           {
            "automargin": true,
            "type": "pie"
           }
          ],
          "scatter": [
           {
            "fillpattern": {
             "fillmode": "overlay",
             "size": 10,
             "solidity": 0.2
            },
            "type": "scatter"
           }
          ],
          "scatter3d": [
           {
            "line": {
             "colorbar": {
              "outlinewidth": 0,
              "ticks": ""
             }
            },
            "marker": {
             "colorbar": {
              "outlinewidth": 0,
              "ticks": ""
             }
            },
            "type": "scatter3d"
           }
          ],
          "scattercarpet": [
           {
            "marker": {
             "colorbar": {
              "outlinewidth": 0,
              "ticks": ""
             }
            },
            "type": "scattercarpet"
           }
          ],
          "scattergeo": [
           {
            "marker": {
             "colorbar": {
              "outlinewidth": 0,
              "ticks": ""
             }
            },
            "type": "scattergeo"
           }
          ],
          "scattergl": [
           {
            "marker": {
             "colorbar": {
              "outlinewidth": 0,
              "ticks": ""
             }
            },
            "type": "scattergl"
           }
          ],
          "scattermapbox": [
           {
            "marker": {
             "colorbar": {
              "outlinewidth": 0,
              "ticks": ""
             }
            },
            "type": "scattermapbox"
           }
          ],
          "scatterpolar": [
           {
            "marker": {
             "colorbar": {
              "outlinewidth": 0,
              "ticks": ""
             }
            },
            "type": "scatterpolar"
           }
          ],
          "scatterpolargl": [
           {
            "marker": {
             "colorbar": {
              "outlinewidth": 0,
              "ticks": ""
             }
            },
            "type": "scatterpolargl"
           }
          ],
          "scatterternary": [
           {
            "marker": {
             "colorbar": {
              "outlinewidth": 0,
              "ticks": ""
             }
            },
            "type": "scatterternary"
           }
          ],
          "surface": [
           {
            "colorbar": {
             "outlinewidth": 0,
             "ticks": ""
            },
            "colorscale": [
             [
              0,
              "#0d0887"
             ],
             [
              0.1111111111111111,
              "#46039f"
             ],
             [
              0.2222222222222222,
              "#7201a8"
             ],
             [
              0.3333333333333333,
              "#9c179e"
             ],
             [
              0.4444444444444444,
              "#bd3786"
             ],
             [
              0.5555555555555556,
              "#d8576b"
             ],
             [
              0.6666666666666666,
              "#ed7953"
             ],
             [
              0.7777777777777778,
              "#fb9f3a"
             ],
             [
              0.8888888888888888,
              "#fdca26"
             ],
             [
              1,
              "#f0f921"
             ]
            ],
            "type": "surface"
           }
          ],
          "table": [
           {
            "cells": {
             "fill": {
              "color": "#EBF0F8"
             },
             "line": {
              "color": "white"
             }
            },
            "header": {
             "fill": {
              "color": "#C8D4E3"
             },
             "line": {
              "color": "white"
             }
            },
            "type": "table"
           }
          ]
         },
         "layout": {
          "annotationdefaults": {
           "arrowcolor": "#2a3f5f",
           "arrowhead": 0,
           "arrowwidth": 1
          },
          "autotypenumbers": "strict",
          "coloraxis": {
           "colorbar": {
            "outlinewidth": 0,
            "ticks": ""
           }
          },
          "colorscale": {
           "diverging": [
            [
             0,
             "#8e0152"
            ],
            [
             0.1,
             "#c51b7d"
            ],
            [
             0.2,
             "#de77ae"
            ],
            [
             0.3,
             "#f1b6da"
            ],
            [
             0.4,
             "#fde0ef"
            ],
            [
             0.5,
             "#f7f7f7"
            ],
            [
             0.6,
             "#e6f5d0"
            ],
            [
             0.7,
             "#b8e186"
            ],
            [
             0.8,
             "#7fbc41"
            ],
            [
             0.9,
             "#4d9221"
            ],
            [
             1,
             "#276419"
            ]
           ],
           "sequential": [
            [
             0,
             "#0d0887"
            ],
            [
             0.1111111111111111,
             "#46039f"
            ],
            [
             0.2222222222222222,
             "#7201a8"
            ],
            [
             0.3333333333333333,
             "#9c179e"
            ],
            [
             0.4444444444444444,
             "#bd3786"
            ],
            [
             0.5555555555555556,
             "#d8576b"
            ],
            [
             0.6666666666666666,
             "#ed7953"
            ],
            [
             0.7777777777777778,
             "#fb9f3a"
            ],
            [
             0.8888888888888888,
             "#fdca26"
            ],
            [
             1,
             "#f0f921"
            ]
           ],
           "sequentialminus": [
            [
             0,
             "#0d0887"
            ],
            [
             0.1111111111111111,
             "#46039f"
            ],
            [
             0.2222222222222222,
             "#7201a8"
            ],
            [
             0.3333333333333333,
             "#9c179e"
            ],
            [
             0.4444444444444444,
             "#bd3786"
            ],
            [
             0.5555555555555556,
             "#d8576b"
            ],
            [
             0.6666666666666666,
             "#ed7953"
            ],
            [
             0.7777777777777778,
             "#fb9f3a"
            ],
            [
             0.8888888888888888,
             "#fdca26"
            ],
            [
             1,
             "#f0f921"
            ]
           ]
          },
          "colorway": [
           "#636efa",
           "#EF553B",
           "#00cc96",
           "#ab63fa",
           "#FFA15A",
           "#19d3f3",
           "#FF6692",
           "#B6E880",
           "#FF97FF",
           "#FECB52"
          ],
          "font": {
           "color": "#2a3f5f"
          },
          "geo": {
           "bgcolor": "white",
           "lakecolor": "white",
           "landcolor": "#E5ECF6",
           "showlakes": true,
           "showland": true,
           "subunitcolor": "white"
          },
          "hoverlabel": {
           "align": "left"
          },
          "hovermode": "closest",
          "mapbox": {
           "style": "light"
          },
          "paper_bgcolor": "white",
          "plot_bgcolor": "#E5ECF6",
          "polar": {
           "angularaxis": {
            "gridcolor": "white",
            "linecolor": "white",
            "ticks": ""
           },
           "bgcolor": "#E5ECF6",
           "radialaxis": {
            "gridcolor": "white",
            "linecolor": "white",
            "ticks": ""
           }
          },
          "scene": {
           "xaxis": {
            "backgroundcolor": "#E5ECF6",
            "gridcolor": "white",
            "gridwidth": 2,
            "linecolor": "white",
            "showbackground": true,
            "ticks": "",
            "zerolinecolor": "white"
           },
           "yaxis": {
            "backgroundcolor": "#E5ECF6",
            "gridcolor": "white",
            "gridwidth": 2,
            "linecolor": "white",
            "showbackground": true,
            "ticks": "",
            "zerolinecolor": "white"
           },
           "zaxis": {
            "backgroundcolor": "#E5ECF6",
            "gridcolor": "white",
            "gridwidth": 2,
            "linecolor": "white",
            "showbackground": true,
            "ticks": "",
            "zerolinecolor": "white"
           }
          },
          "shapedefaults": {
           "line": {
            "color": "#2a3f5f"
           }
          },
          "ternary": {
           "aaxis": {
            "gridcolor": "white",
            "linecolor": "white",
            "ticks": ""
           },
           "baxis": {
            "gridcolor": "white",
            "linecolor": "white",
            "ticks": ""
           },
           "bgcolor": "#E5ECF6",
           "caxis": {
            "gridcolor": "white",
            "linecolor": "white",
            "ticks": ""
           }
          },
          "title": {
           "x": 0.05
          },
          "xaxis": {
           "automargin": true,
           "gridcolor": "white",
           "linecolor": "white",
           "ticks": "",
           "title": {
            "standoff": 15
           },
           "zerolinecolor": "white",
           "zerolinewidth": 2
          },
          "yaxis": {
           "automargin": true,
           "gridcolor": "white",
           "linecolor": "white",
           "ticks": "",
           "title": {
            "standoff": 15
           },
           "zerolinecolor": "white",
           "zerolinewidth": 2
          }
         }
        },
        "width": 1400
       }
      }
     },
     "metadata": {},
     "output_type": "display_data"
    }
   ],
   "source": [
    "\n",
    "fig = px.scatter_3d(df, x='t', y='x', z='y', color='p', \n",
    "                    opacity=0.3,\n",
    "                    width=1400, height=700\n",
    "                )\n",
    "fig.update_traces(marker_size = 0.5)\n",
    "\n",
    "fig.update_layout(scene_aspectmode='manual',\n",
    "                  scene_aspectratio=dict(x=3, y=1, z=1))\n",
    "\n",
    "fig.show() "
   ]
  }
 ],
 "metadata": {
  "interpreter": {
   "hash": "c33550bf66994ac9db894a0fac7c95ec673dc15d916dabbd00f6dd9665a2057e"
  },
  "kernelspec": {
   "display_name": "Python 3.8.10 64-bit",
   "language": "python",
   "name": "python3"
  },
  "language_info": {
   "codemirror_mode": {
    "name": "ipython",
    "version": 3
   },
   "file_extension": ".py",
   "mimetype": "text/x-python",
   "name": "python",
   "nbconvert_exporter": "python",
   "pygments_lexer": "ipython3",
   "version": "3.8.10"
  }
 },
 "nbformat": 4,
 "nbformat_minor": 2
}
